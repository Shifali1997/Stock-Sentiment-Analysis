{
  "nbformat": 4,
  "nbformat_minor": 0,
  "metadata": {
    "colab": {
      "name": "Stock Sentiment Analysis.ipynb",
      "provenance": []
    },
    "kernelspec": {
      "name": "python3",
      "display_name": "Python 3"
    },
    "accelerator": "GPU"
  },
  "cells": [
    {
      "cell_type": "markdown",
      "metadata": {
        "id": "B1Pm1OcmNHFh"
      },
      "source": [
        "**Importing Libraries**"
      ]
    },
    {
      "cell_type": "code",
      "metadata": {
        "id": "X0A_NCLuwjFs",
        "colab": {
          "base_uri": "https://localhost:8080/"
        },
        "outputId": "da0028fd-0e68-4883-fbea-513214bc9a78"
      },
      "source": [
        "from matplotlib import pyplot as plt\n",
        "import seaborn as sns\n",
        "sns.set()\n",
        "%matplotlib inline\n",
        "from sklearn.feature_extraction.text import CountVectorizer\n",
        "from sklearn.metrics import confusion_matrix\n",
        "from sklearn.model_selection import train_test_split\n",
        "from sklearn.linear_model import LogisticRegression\n",
        "from sklearn.naive_bayes import MultinomialNB\n",
        "from sklearn.ensemble import RandomForestClassifier\n",
        "from sklearn.metrics import accuracy_score \n",
        "from sklearn.metrics import classification_report\n",
        "from nltk.stem.porter import PorterStemmer\n",
        "from nltk import word_tokenize, WordNetLemmatizer\n",
        "import nltk\n",
        "import re \n",
        "nltk.download('wordnet')\n",
        "import pandas as pd\n",
        "import numpy as np"
      ],
      "execution_count": null,
      "outputs": [
        {
          "output_type": "stream",
          "text": [
            "[nltk_data] Downloading package wordnet to /root/nltk_data...\n",
            "[nltk_data]   Unzipping corpora/wordnet.zip.\n"
          ],
          "name": "stdout"
        }
      ]
    },
    {
      "cell_type": "code",
      "metadata": {
        "colab": {
          "base_uri": "https://localhost:8080/"
        },
        "id": "ZLgPv1ik1Zo3",
        "outputId": "65ac0c4f-0f3a-4e79-81a6-0c2393f16226"
      },
      "source": [
        "import nltk\n",
        "nltk.download('stopwords')"
      ],
      "execution_count": null,
      "outputs": [
        {
          "output_type": "stream",
          "text": [
            "[nltk_data] Downloading package stopwords to /root/nltk_data...\n",
            "[nltk_data]   Unzipping corpora/stopwords.zip.\n"
          ],
          "name": "stdout"
        },
        {
          "output_type": "execute_result",
          "data": {
            "text/plain": [
              "True"
            ]
          },
          "metadata": {
            "tags": []
          },
          "execution_count": 3
        }
      ]
    },
    {
      "cell_type": "code",
      "metadata": {
        "colab": {
          "base_uri": "https://localhost:8080/"
        },
        "id": "bG1Uo1KE1ccQ",
        "outputId": "f8171f3e-1329-4f8e-b0f5-0f4e25b1b7fe"
      },
      "source": [
        "import nltk\n",
        "nltk.download('punkt')"
      ],
      "execution_count": null,
      "outputs": [
        {
          "output_type": "stream",
          "text": [
            "[nltk_data] Downloading package punkt to /root/nltk_data...\n",
            "[nltk_data]   Unzipping tokenizers/punkt.zip.\n"
          ],
          "name": "stdout"
        },
        {
          "output_type": "execute_result",
          "data": {
            "text/plain": [
              "True"
            ]
          },
          "metadata": {
            "tags": []
          },
          "execution_count": 4
        }
      ]
    },
    {
      "cell_type": "code",
      "metadata": {
        "id": "wT3ZFSRZv5Gf"
      },
      "source": [
        "data = pd.read_csv('/content/drive/MyDrive/Kaggel Competition/Stock-Market Sentiment Dataset/stock_data.csv')"
      ],
      "execution_count": null,
      "outputs": []
    },
    {
      "cell_type": "code",
      "metadata": {
        "colab": {
          "base_uri": "https://localhost:8080/",
          "height": 204
        },
        "id": "vnVDGiDmv5EG",
        "outputId": "487c01ca-24fa-42f6-c8e8-ec2ae83a638e"
      },
      "source": [
        "data.head()"
      ],
      "execution_count": null,
      "outputs": [
        {
          "output_type": "execute_result",
          "data": {
            "text/html": [
              "<div>\n",
              "<style scoped>\n",
              "    .dataframe tbody tr th:only-of-type {\n",
              "        vertical-align: middle;\n",
              "    }\n",
              "\n",
              "    .dataframe tbody tr th {\n",
              "        vertical-align: top;\n",
              "    }\n",
              "\n",
              "    .dataframe thead th {\n",
              "        text-align: right;\n",
              "    }\n",
              "</style>\n",
              "<table border=\"1\" class=\"dataframe\">\n",
              "  <thead>\n",
              "    <tr style=\"text-align: right;\">\n",
              "      <th></th>\n",
              "      <th>Text</th>\n",
              "      <th>Sentiment</th>\n",
              "    </tr>\n",
              "  </thead>\n",
              "  <tbody>\n",
              "    <tr>\n",
              "      <th>0</th>\n",
              "      <td>Kickers on my watchlist XIDE TIT SOQ PNK CPW B...</td>\n",
              "      <td>1</td>\n",
              "    </tr>\n",
              "    <tr>\n",
              "      <th>1</th>\n",
              "      <td>user: AAP MOVIE. 55% return for the FEA/GEED i...</td>\n",
              "      <td>1</td>\n",
              "    </tr>\n",
              "    <tr>\n",
              "      <th>2</th>\n",
              "      <td>user I'd be afraid to short AMZN - they are lo...</td>\n",
              "      <td>1</td>\n",
              "    </tr>\n",
              "    <tr>\n",
              "      <th>3</th>\n",
              "      <td>MNTA Over 12.00</td>\n",
              "      <td>1</td>\n",
              "    </tr>\n",
              "    <tr>\n",
              "      <th>4</th>\n",
              "      <td>OI  Over 21.37</td>\n",
              "      <td>1</td>\n",
              "    </tr>\n",
              "  </tbody>\n",
              "</table>\n",
              "</div>"
            ],
            "text/plain": [
              "                                                Text  Sentiment\n",
              "0  Kickers on my watchlist XIDE TIT SOQ PNK CPW B...          1\n",
              "1  user: AAP MOVIE. 55% return for the FEA/GEED i...          1\n",
              "2  user I'd be afraid to short AMZN - they are lo...          1\n",
              "3                                  MNTA Over 12.00            1\n",
              "4                                   OI  Over 21.37            1"
            ]
          },
          "metadata": {
            "tags": []
          },
          "execution_count": 3
        }
      ]
    },
    {
      "cell_type": "markdown",
      "metadata": {
        "id": "FOKQjADbNYjL"
      },
      "source": [
        "As the sentiment values are in 1 and -1, we will change those to 1 and 0 respectively."
      ]
    },
    {
      "cell_type": "code",
      "metadata": {
        "id": "k6vkIRJv1kYI"
      },
      "source": [
        "sentiment = []\n",
        "for ele in data['Sentiment']:\n",
        "  if ele == -1:\n",
        "    sentiment.append(0)\n",
        "  else:\n",
        "    sentiment.append(1)"
      ],
      "execution_count": null,
      "outputs": []
    },
    {
      "cell_type": "code",
      "metadata": {
        "id": "eeCCW4FRLgTW"
      },
      "source": [
        "data['Sentiment'] =  sentiment"
      ],
      "execution_count": null,
      "outputs": []
    },
    {
      "cell_type": "code",
      "metadata": {
        "id": "uydkrNDLv5CB"
      },
      "source": [
        "data['Text'] = data.iloc[0:,0].str.lower()"
      ],
      "execution_count": null,
      "outputs": []
    },
    {
      "cell_type": "code",
      "metadata": {
        "id": "-_W7Qo-q1vGo"
      },
      "source": [
        "## NlP Processing\n",
        "from nltk.corpus import stopwords\n",
        "ps = PorterStemmer()\n",
        "lemma = WordNetLemmatizer()\n",
        "stopwordSet = set(stopwords.words(\"english\"))"
      ],
      "execution_count": null,
      "outputs": []
    },
    {
      "cell_type": "code",
      "metadata": {
        "id": "Q4hGx60l1vRo"
      },
      "source": [
        "## Clean the text \n",
        "text_reviews = list()\n",
        "for i in range(len(data)):\n",
        "    # Removing the URL links\n",
        "    text = re.sub(r\"https?://[A-Za-z0-9./]+\", ' ', data['Text'][i])\n",
        "    # Repalcing anything apart from alphabets with space\n",
        "    text = re.sub('[^a-zA-Z]',\" \",text)\n",
        "    text = text.lower()\n",
        "    text = word_tokenize(text,language=\"english\")\n",
        "    text = [lemma.lemmatize(word) for word in text if(word) not in stopwordSet]\n",
        "    text = \" \".join(text)\n",
        "    text_reviews.append(text)"
      ],
      "execution_count": null,
      "outputs": []
    },
    {
      "cell_type": "code",
      "metadata": {
        "colab": {
          "base_uri": "https://localhost:8080/",
          "height": 204
        },
        "id": "GusbWUOOwYs0",
        "outputId": "24929c1e-13a9-4bd3-c024-92e8dac53ec1"
      },
      "source": [
        "data.head()"
      ],
      "execution_count": null,
      "outputs": [
        {
          "output_type": "execute_result",
          "data": {
            "text/html": [
              "<div>\n",
              "<style scoped>\n",
              "    .dataframe tbody tr th:only-of-type {\n",
              "        vertical-align: middle;\n",
              "    }\n",
              "\n",
              "    .dataframe tbody tr th {\n",
              "        vertical-align: top;\n",
              "    }\n",
              "\n",
              "    .dataframe thead th {\n",
              "        text-align: right;\n",
              "    }\n",
              "</style>\n",
              "<table border=\"1\" class=\"dataframe\">\n",
              "  <thead>\n",
              "    <tr style=\"text-align: right;\">\n",
              "      <th></th>\n",
              "      <th>Text</th>\n",
              "      <th>Sentiment</th>\n",
              "    </tr>\n",
              "  </thead>\n",
              "  <tbody>\n",
              "    <tr>\n",
              "      <th>0</th>\n",
              "      <td>kickers on my watchlist xide tit soq pnk cpw b...</td>\n",
              "      <td>1</td>\n",
              "    </tr>\n",
              "    <tr>\n",
              "      <th>1</th>\n",
              "      <td>user: aap movie. 55% return for the fea/geed i...</td>\n",
              "      <td>1</td>\n",
              "    </tr>\n",
              "    <tr>\n",
              "      <th>2</th>\n",
              "      <td>user i'd be afraid to short amzn - they are lo...</td>\n",
              "      <td>1</td>\n",
              "    </tr>\n",
              "    <tr>\n",
              "      <th>3</th>\n",
              "      <td>mnta over 12.00</td>\n",
              "      <td>1</td>\n",
              "    </tr>\n",
              "    <tr>\n",
              "      <th>4</th>\n",
              "      <td>oi  over 21.37</td>\n",
              "      <td>1</td>\n",
              "    </tr>\n",
              "  </tbody>\n",
              "</table>\n",
              "</div>"
            ],
            "text/plain": [
              "                                                Text  Sentiment\n",
              "0  kickers on my watchlist xide tit soq pnk cpw b...          1\n",
              "1  user: aap movie. 55% return for the fea/geed i...          1\n",
              "2  user i'd be afraid to short amzn - they are lo...          1\n",
              "3                                  mnta over 12.00            1\n",
              "4                                   oi  over 21.37            1"
            ]
          },
          "metadata": {
            "tags": []
          },
          "execution_count": 10
        }
      ]
    },
    {
      "cell_type": "code",
      "metadata": {
        "id": "qLlVM9aLK3Q1",
        "colab": {
          "base_uri": "https://localhost:8080/"
        },
        "outputId": "f3a187de-cd35-49e9-f2e8-305e25ae8396"
      },
      "source": [
        "data.shape"
      ],
      "execution_count": null,
      "outputs": [
        {
          "output_type": "execute_result",
          "data": {
            "text/plain": [
              "(5791, 2)"
            ]
          },
          "metadata": {
            "tags": []
          },
          "execution_count": 12
        }
      ]
    },
    {
      "cell_type": "markdown",
      "metadata": {
        "id": "9ddS3fpDOMGK"
      },
      "source": [
        "# Applying naive bayes using Bag Of Words"
      ]
    },
    {
      "cell_type": "code",
      "metadata": {
        "id": "EK6vZjM2K3Nl"
      },
      "source": [
        "## Create the (B.O.W) bag of word model\n",
        "cv = CountVectorizer(max_features=3000)\n",
        "X = cv.fit_transform(text_reviews).toarray()\n",
        "y= data['Sentiment']"
      ],
      "execution_count": null,
      "outputs": []
    },
    {
      "cell_type": "code",
      "metadata": {
        "colab": {
          "base_uri": "https://localhost:8080/",
          "height": 204
        },
        "id": "TOqDd5IKLlAl",
        "outputId": "98b9ad31-565a-46e7-84eb-ff82ffbe4f13"
      },
      "source": [
        "data.tail()"
      ],
      "execution_count": null,
      "outputs": [
        {
          "output_type": "execute_result",
          "data": {
            "text/html": [
              "<div>\n",
              "<style scoped>\n",
              "    .dataframe tbody tr th:only-of-type {\n",
              "        vertical-align: middle;\n",
              "    }\n",
              "\n",
              "    .dataframe tbody tr th {\n",
              "        vertical-align: top;\n",
              "    }\n",
              "\n",
              "    .dataframe thead th {\n",
              "        text-align: right;\n",
              "    }\n",
              "</style>\n",
              "<table border=\"1\" class=\"dataframe\">\n",
              "  <thead>\n",
              "    <tr style=\"text-align: right;\">\n",
              "      <th></th>\n",
              "      <th>Text</th>\n",
              "      <th>Sentiment</th>\n",
              "    </tr>\n",
              "  </thead>\n",
              "  <tbody>\n",
              "    <tr>\n",
              "      <th>5786</th>\n",
              "      <td>industry body cii said #discoms are likely to ...</td>\n",
              "      <td>0</td>\n",
              "    </tr>\n",
              "    <tr>\n",
              "      <th>5787</th>\n",
              "      <td>#gold prices slip below rs 46,000 as #investor...</td>\n",
              "      <td>0</td>\n",
              "    </tr>\n",
              "    <tr>\n",
              "      <th>5788</th>\n",
              "      <td>workers at bajaj auto have agreed to a 10% wag...</td>\n",
              "      <td>1</td>\n",
              "    </tr>\n",
              "    <tr>\n",
              "      <th>5789</th>\n",
              "      <td>#sharemarket live: sensex off day’s high, up 6...</td>\n",
              "      <td>1</td>\n",
              "    </tr>\n",
              "    <tr>\n",
              "      <th>5790</th>\n",
              "      <td>#sensex, #nifty climb off day's highs, still u...</td>\n",
              "      <td>1</td>\n",
              "    </tr>\n",
              "  </tbody>\n",
              "</table>\n",
              "</div>"
            ],
            "text/plain": [
              "                                                   Text  Sentiment\n",
              "5786  industry body cii said #discoms are likely to ...          0\n",
              "5787  #gold prices slip below rs 46,000 as #investor...          0\n",
              "5788  workers at bajaj auto have agreed to a 10% wag...          1\n",
              "5789  #sharemarket live: sensex off day’s high, up 6...          1\n",
              "5790  #sensex, #nifty climb off day's highs, still u...          1"
            ]
          },
          "metadata": {
            "tags": []
          },
          "execution_count": 16
        }
      ]
    },
    {
      "cell_type": "code",
      "metadata": {
        "id": "2hjNjwWk2ot5"
      },
      "source": [
        "## Split the dataset into Training and Test set\n",
        "X_train, X_test, y_train, y_test = train_test_split(X, y , test_size=0.2, random_state = 0)"
      ],
      "execution_count": null,
      "outputs": []
    },
    {
      "cell_type": "code",
      "metadata": {
        "id": "55k8Tgcv2xQK"
      },
      "source": [
        "## Naives baye multinomial\n",
        "clf = MultinomialNB()\n",
        "clf.fit(X_train, y_train)\n",
        "Y_pred = clf.predict(X_test)"
      ],
      "execution_count": null,
      "outputs": []
    },
    {
      "cell_type": "code",
      "metadata": {
        "colab": {
          "base_uri": "https://localhost:8080/"
        },
        "id": "Bk7e3rxF2xMU",
        "outputId": "9889eba0-f6ec-4bcf-fad8-cb751817f54c"
      },
      "source": [
        "print(classification_report(y_test, Y_pred))"
      ],
      "execution_count": null,
      "outputs": [
        {
          "output_type": "stream",
          "text": [
            "              precision    recall  f1-score   support\n",
            "\n",
            "           0       0.71      0.72      0.72       417\n",
            "           1       0.84      0.83      0.84       742\n",
            "\n",
            "    accuracy                           0.79      1159\n",
            "   macro avg       0.78      0.78      0.78      1159\n",
            "weighted avg       0.79      0.79      0.79      1159\n",
            "\n"
          ],
          "name": "stdout"
        }
      ]
    },
    {
      "cell_type": "markdown",
      "metadata": {
        "id": "vd0pX6IKOjif"
      },
      "source": [
        "# Performing hyperparameter tuning in naive bayes"
      ]
    },
    {
      "cell_type": "code",
      "metadata": {
        "colab": {
          "base_uri": "https://localhost:8080/"
        },
        "id": "HUVaTRuc21nl",
        "outputId": "17ecf889-c70e-40d8-90c3-64ad254fae04"
      },
      "source": [
        "previous_score=0\n",
        "from sklearn import metrics\n",
        "\n",
        "for alpha in np.arange(0,1,0.1):\n",
        "    sub_classifier=MultinomialNB(alpha=alpha)\n",
        "    sub_classifier.fit(X_train,y_train)\n",
        "    y_pred=sub_classifier.predict(X_test)\n",
        "    score = metrics.accuracy_score(y_test, y_pred)\n",
        "    if score>previous_score:\n",
        "        classifier=sub_classifier\n",
        "    print(\"Alpha: {}, Score : {}\".format(alpha,score))"
      ],
      "execution_count": null,
      "outputs": [
        {
          "output_type": "stream",
          "text": [
            "/usr/local/lib/python3.6/dist-packages/sklearn/naive_bayes.py:507: UserWarning: alpha too small will result in numeric errors, setting alpha = 1.0e-10\n",
            "  'setting alpha = %.1e' % _ALPHA_MIN)\n"
          ],
          "name": "stderr"
        },
        {
          "output_type": "stream",
          "text": [
            "Alpha: 0.0, Score : 0.7437446074201898\n",
            "Alpha: 0.1, Score : 0.7756686798964625\n",
            "Alpha: 0.2, Score : 0.7808455565142364\n",
            "Alpha: 0.30000000000000004, Score : 0.7877480586712683\n",
            "Alpha: 0.4, Score : 0.7868852459016393\n",
            "Alpha: 0.5, Score : 0.7929249352890423\n",
            "Alpha: 0.6000000000000001, Score : 0.7929249352890423\n",
            "Alpha: 0.7000000000000001, Score : 0.7929249352890423\n",
            "Alpha: 0.8, Score : 0.7920621225194133\n",
            "Alpha: 0.9, Score : 0.7903364969801553\n"
          ],
          "name": "stdout"
        }
      ]
    },
    {
      "cell_type": "markdown",
      "metadata": {
        "id": "Ze17prStOyr0"
      },
      "source": [
        "# Applying random forest using Bag Of Words"
      ]
    },
    {
      "cell_type": "code",
      "metadata": {
        "id": "t3pfxLHM3Ay4"
      },
      "source": [
        "random_forest = RandomForestClassifier(n_estimators=100)\n",
        "random_forest.fit(X_train, y_train)\n",
        "Y_pred = random_forest.predict(X_test)"
      ],
      "execution_count": null,
      "outputs": []
    },
    {
      "cell_type": "code",
      "metadata": {
        "colab": {
          "base_uri": "https://localhost:8080/"
        },
        "id": "DJupQLVF3Au8",
        "outputId": "e9c2974b-e4cf-41c7-f908-5d84ef923e39"
      },
      "source": [
        "print(\"accuracy: {}\".format(accuracy_score(y_test, Y_pred)))"
      ],
      "execution_count": null,
      "outputs": [
        {
          "output_type": "stream",
          "text": [
            "accuracy: 0.7886108714408974\n"
          ],
          "name": "stdout"
        }
      ]
    },
    {
      "cell_type": "markdown",
      "metadata": {
        "id": "Hf1fYp4qO8aR"
      },
      "source": [
        "# Applying naive bayes using TFIDF"
      ]
    },
    {
      "cell_type": "code",
      "metadata": {
        "id": "5nsQ1F6Y3KaJ"
      },
      "source": [
        "from sklearn.feature_extraction.text import TfidfVectorizer"
      ],
      "execution_count": null,
      "outputs": []
    },
    {
      "cell_type": "code",
      "metadata": {
        "colab": {
          "base_uri": "https://localhost:8080/"
        },
        "id": "tu8D5CyC3KW9",
        "outputId": "7469ee14-279b-4d5a-fec7-f09e05db2c89"
      },
      "source": [
        "# Implementing Bag of Words\n",
        "tfvector = TfidfVectorizer(ngram_range = (2,2))\n",
        "train_dataset = tfvector.fit_transform(text_reviews)\n",
        "train_dataset.shape"
      ],
      "execution_count": null,
      "outputs": [
        {
          "output_type": "execute_result",
          "data": {
            "text/plain": [
              "(5791, 34264)"
            ]
          },
          "metadata": {
            "tags": []
          },
          "execution_count": 24
        }
      ]
    },
    {
      "cell_type": "code",
      "metadata": {
        "id": "9n6gI4kd3KTl"
      },
      "source": [
        "## Split the dataset into Training and Test set\n",
        "X_train, X_test, y_train, y_test = train_test_split(train_dataset, y , test_size=0.2, random_state = 0)"
      ],
      "execution_count": null,
      "outputs": []
    },
    {
      "cell_type": "code",
      "metadata": {
        "id": "CPggYDpI3dZn"
      },
      "source": [
        "## Naives baye multinomial\n",
        "clf = MultinomialNB()\n",
        "clf.fit(X_train, y_train)\n",
        "Y_pred = clf.predict(X_test)"
      ],
      "execution_count": null,
      "outputs": []
    },
    {
      "cell_type": "code",
      "metadata": {
        "colab": {
          "base_uri": "https://localhost:8080/"
        },
        "id": "IBd88AXJ3diC",
        "outputId": "ea896f0b-f8d0-47c0-acd9-51df33994597"
      },
      "source": [
        "print(classification_report(y_test, Y_pred))"
      ],
      "execution_count": null,
      "outputs": [
        {
          "output_type": "stream",
          "text": [
            "              precision    recall  f1-score   support\n",
            "\n",
            "           0       0.87      0.18      0.29       417\n",
            "           1       0.68      0.99      0.80       742\n",
            "\n",
            "    accuracy                           0.69      1159\n",
            "   macro avg       0.77      0.58      0.55      1159\n",
            "weighted avg       0.75      0.69      0.62      1159\n",
            "\n"
          ],
          "name": "stdout"
        }
      ]
    },
    {
      "cell_type": "code",
      "metadata": {
        "colab": {
          "base_uri": "https://localhost:8080/"
        },
        "id": "ARpuYGWb3pWP",
        "outputId": "ebd5fcb8-0380-4007-e7c9-2fdbefb3a32a"
      },
      "source": [
        "previous_score=0\n",
        "from sklearn import metrics\n",
        "\n",
        "for alpha in np.arange(0,1,0.1):\n",
        "    sub_classifier=MultinomialNB(alpha=alpha)\n",
        "    sub_classifier.fit(X_train,y_train)\n",
        "    y_pred=sub_classifier.predict(X_test)\n",
        "    score = metrics.accuracy_score(y_test, y_pred)\n",
        "    if score>previous_score:\n",
        "        classifier=sub_classifier\n",
        "    print(\"Alpha: {}, Score : {}\".format(alpha,score))"
      ],
      "execution_count": null,
      "outputs": [
        {
          "output_type": "stream",
          "text": [
            "Alpha: 0.0, Score : 0.6229508196721312\n",
            "Alpha: 0.1, Score : 0.6324417601380501\n",
            "Alpha: 0.2, Score : 0.6798964624676446\n",
            "Alpha: 0.30000000000000004, Score : 0.7213114754098361\n",
            "Alpha: 0.4, Score : 0.734253666954271\n",
            "Alpha: 0.5, Score : 0.728213977566868\n",
            "Alpha: 0.6000000000000001, Score : 0.72648835202761\n",
            "Alpha: 0.7000000000000001, Score : 0.7161345987920621\n",
            "Alpha: 0.8, Score : 0.7100949094046591\n",
            "Alpha: 0.9, Score : 0.6980155306298533\n"
          ],
          "name": "stdout"
        },
        {
          "output_type": "stream",
          "text": [
            "/usr/local/lib/python3.6/dist-packages/sklearn/naive_bayes.py:507: UserWarning: alpha too small will result in numeric errors, setting alpha = 1.0e-10\n",
            "  'setting alpha = %.1e' % _ALPHA_MIN)\n"
          ],
          "name": "stderr"
        }
      ]
    },
    {
      "cell_type": "markdown",
      "metadata": {
        "id": "Cln-aj7X4X6g"
      },
      "source": [
        "# Embedded Layer and LSTM "
      ]
    },
    {
      "cell_type": "code",
      "metadata": {
        "id": "Pxqlt1wD3pSJ"
      },
      "source": [
        "from tensorflow.keras.preprocessing.text import one_hot\n",
        "### Vocabulary size\n",
        "voc_size=10000\n",
        "onehot_repr = [one_hot(words,voc_size)for words in text_reviews] "
      ],
      "execution_count": null,
      "outputs": []
    },
    {
      "cell_type": "code",
      "metadata": {
        "id": "_gqbGt8qwYqR"
      },
      "source": [
        "from tensorflow.keras.layers import Embedding\n",
        "from tensorflow.keras.preprocessing.sequence import pad_sequences\n",
        "from tensorflow.keras.models import Sequential"
      ],
      "execution_count": null,
      "outputs": []
    },
    {
      "cell_type": "code",
      "metadata": {
        "id": "rIQkWjZP6cKT"
      },
      "source": [
        "sent_length = 1000\n",
        "embedded_docs = pad_sequences(onehot_repr,padding='pre',maxlen=sent_length)"
      ],
      "execution_count": null,
      "outputs": []
    },
    {
      "cell_type": "code",
      "metadata": {
        "id": "vJwcpTIswYoU"
      },
      "source": [
        "## Split the dataset into Training and Test set\n",
        "X_train, X_test, y_train, y_test = train_test_split(embedded_docs, data['Sentiment'].values , test_size=0.2, random_state = 0)"
      ],
      "execution_count": null,
      "outputs": []
    },
    {
      "cell_type": "code",
      "metadata": {
        "id": "y34Is3ufyF-f"
      },
      "source": [
        "import keras\n",
        "from keras import layers"
      ],
      "execution_count": null,
      "outputs": []
    },
    {
      "cell_type": "code",
      "metadata": {
        "colab": {
          "base_uri": "https://localhost:8080/"
        },
        "id": "io8EhjJByFwx",
        "outputId": "13e93ffc-28f6-460e-dd63-5a497bf63f3b"
      },
      "source": [
        "model = keras.models.Sequential()\n",
        "model.add(layers.Embedding(100000, 64, input_length=sent_length))\n",
        "model.add(layers.LSTM(64, dropout=0.2, recurrent_dropout=0.2))\n",
        "model.add(layers.Dense(32, activation='relu'))\n",
        "model.add(layers.Dropout(0.2))\n",
        "model.add(layers.Dense(1, activation='sigmoid'))\n",
        "model.compile(optimizer='adam', loss='binary_crossentropy', metrics=['accuracy'])\n",
        "model.fit(X_train, y_train, validation_data=(X_test,y_test),epochs=10, batch_size=64)"
      ],
      "execution_count": null,
      "outputs": [
        {
          "output_type": "stream",
          "text": [
            "WARNING:tensorflow:Layer lstm_2 will not use cuDNN kernel since it doesn't meet the cuDNN kernel criteria. It will use generic GPU kernel as fallback when running on GPU\n",
            "Epoch 1/10\n",
            "73/73 [==============================] - 383s 5s/step - loss: 0.6543 - accuracy: 0.6328 - val_loss: 0.6069 - val_accuracy: 0.6462\n",
            "Epoch 2/10\n",
            "73/73 [==============================] - 379s 5s/step - loss: 0.4878 - accuracy: 0.7589 - val_loss: 0.4802 - val_accuracy: 0.7610\n",
            "Epoch 3/10\n",
            "73/73 [==============================] - 379s 5s/step - loss: 0.3099 - accuracy: 0.8703 - val_loss: 0.5523 - val_accuracy: 0.7584\n",
            "Epoch 4/10\n",
            "73/73 [==============================] - 379s 5s/step - loss: 0.2171 - accuracy: 0.9177 - val_loss: 0.6420 - val_accuracy: 0.7567\n",
            "Epoch 5/10\n",
            "73/73 [==============================] - 381s 5s/step - loss: 0.1619 - accuracy: 0.9417 - val_loss: 0.7286 - val_accuracy: 0.7636\n",
            "Epoch 6/10\n",
            "73/73 [==============================] - 381s 5s/step - loss: 0.1258 - accuracy: 0.9536 - val_loss: 0.8779 - val_accuracy: 0.7645\n",
            "Epoch 7/10\n",
            "73/73 [==============================] - 376s 5s/step - loss: 0.0916 - accuracy: 0.9706 - val_loss: 1.0065 - val_accuracy: 0.7481\n",
            "Epoch 8/10\n",
            "73/73 [==============================] - 380s 5s/step - loss: 0.0711 - accuracy: 0.9739 - val_loss: 1.0670 - val_accuracy: 0.7455\n",
            "Epoch 9/10\n",
            "73/73 [==============================] - 377s 5s/step - loss: 0.0683 - accuracy: 0.9726 - val_loss: 1.2555 - val_accuracy: 0.7524\n",
            "Epoch 10/10\n",
            "73/73 [==============================] - 375s 5s/step - loss: 0.0602 - accuracy: 0.9788 - val_loss: 1.3491 - val_accuracy: 0.7377\n"
          ],
          "name": "stdout"
        },
        {
          "output_type": "execute_result",
          "data": {
            "text/plain": [
              "<tensorflow.python.keras.callbacks.History at 0x7f087bfdf668>"
            ]
          },
          "metadata": {
            "tags": []
          },
          "execution_count": 51
        }
      ]
    },
    {
      "cell_type": "markdown",
      "metadata": {
        "id": "LuBEyNz-PfCT"
      },
      "source": [
        "# Bi - Directional LSTM"
      ]
    },
    {
      "cell_type": "code",
      "metadata": {
        "colab": {
          "base_uri": "https://localhost:8080/"
        },
        "id": "E2TP-rv_QF7E",
        "outputId": "128b90c1-e9b0-4da5-9907-898070901b0c"
      },
      "source": [
        "## Creating model\n",
        "from tensorflow.keras.layers import Bidirectional,LSTM,Dropout,Dense\n",
        "embedding_vector_features=40\n",
        "model1=Sequential()\n",
        "model1.add(Embedding(voc_size,embedding_vector_features,input_length=sent_length))\n",
        "model1.add(Bidirectional(LSTM(500,return_sequences=True)))\n",
        "model1.add(Dropout(0.3))\n",
        "model1.add(Bidirectional(LSTM(250,return_sequences=True)))\n",
        "model1.add(Dropout(0.3))\n",
        "model1.add(Bidirectional(LSTM(100,return_sequences=True)))\n",
        "model1.add(Dropout(0.3))\n",
        "model1.add(Bidirectional(LSTM(50)))\n",
        "model1.add(Dropout(0.3))\n",
        "\n",
        "model1.add(Dense(1,activation='sigmoid'))\n",
        "model1.compile(loss='binary_crossentropy',optimizer='adam',metrics=['accuracy'])\n",
        "print(model1.summary())"
      ],
      "execution_count": null,
      "outputs": [
        {
          "output_type": "stream",
          "text": [
            "Model: \"sequential_2\"\n",
            "_________________________________________________________________\n",
            "Layer (type)                 Output Shape              Param #   \n",
            "=================================================================\n",
            "embedding_2 (Embedding)      (None, 1000, 40)          400000    \n",
            "_________________________________________________________________\n",
            "bidirectional (Bidirectional (None, 1000, 1000)        2164000   \n",
            "_________________________________________________________________\n",
            "dropout_2 (Dropout)          (None, 1000, 1000)        0         \n",
            "_________________________________________________________________\n",
            "bidirectional_1 (Bidirection (None, 1000, 500)         2502000   \n",
            "_________________________________________________________________\n",
            "dropout_3 (Dropout)          (None, 1000, 500)         0         \n",
            "_________________________________________________________________\n",
            "bidirectional_2 (Bidirection (None, 1000, 200)         480800    \n",
            "_________________________________________________________________\n",
            "dropout_4 (Dropout)          (None, 1000, 200)         0         \n",
            "_________________________________________________________________\n",
            "bidirectional_3 (Bidirection (None, 100)               100400    \n",
            "_________________________________________________________________\n",
            "dropout_5 (Dropout)          (None, 100)               0         \n",
            "_________________________________________________________________\n",
            "dense_1 (Dense)              (None, 1)                 101       \n",
            "=================================================================\n",
            "Total params: 5,647,301\n",
            "Trainable params: 5,647,301\n",
            "Non-trainable params: 0\n",
            "_________________________________________________________________\n",
            "None\n"
          ],
          "name": "stdout"
        }
      ]
    },
    {
      "cell_type": "code",
      "metadata": {
        "colab": {
          "base_uri": "https://localhost:8080/"
        },
        "id": "hDyctF_9QJNV",
        "outputId": "0306daeb-69ed-49bc-c2d5-6dd6255c58e7"
      },
      "source": [
        "### Finally Training\n",
        "model1.fit(X_train,y_train,validation_data=(X_test,y_test),epochs=25,batch_size=64)"
      ],
      "execution_count": null,
      "outputs": [
        {
          "output_type": "stream",
          "text": [
            "Epoch 1/25\n",
            "73/73 [==============================] - 85s 1s/step - loss: 0.6225 - accuracy: 0.6647 - val_loss: 0.5087 - val_accuracy: 0.7584\n",
            "Epoch 2/25\n",
            "73/73 [==============================] - 83s 1s/step - loss: 0.3904 - accuracy: 0.8286 - val_loss: 0.5505 - val_accuracy: 0.7662\n",
            "Epoch 3/25\n",
            "73/73 [==============================] - 83s 1s/step - loss: 0.2680 - accuracy: 0.8981 - val_loss: 0.5651 - val_accuracy: 0.7610\n",
            "Epoch 4/25\n",
            "73/73 [==============================] - 83s 1s/step - loss: 0.2654 - accuracy: 0.9011 - val_loss: 0.6490 - val_accuracy: 0.7204\n",
            "Epoch 5/25\n",
            "73/73 [==============================] - 83s 1s/step - loss: 0.1940 - accuracy: 0.9266 - val_loss: 0.7252 - val_accuracy: 0.7343\n",
            "Epoch 6/25\n",
            "73/73 [==============================] - 83s 1s/step - loss: 0.1287 - accuracy: 0.9562 - val_loss: 0.7463 - val_accuracy: 0.7377\n",
            "Epoch 7/25\n",
            "73/73 [==============================] - 83s 1s/step - loss: 0.1051 - accuracy: 0.9685 - val_loss: 1.0137 - val_accuracy: 0.7325\n",
            "Epoch 8/25\n",
            "73/73 [==============================] - 83s 1s/step - loss: 0.1008 - accuracy: 0.9687 - val_loss: 0.9123 - val_accuracy: 0.7317\n",
            "Epoch 9/25\n",
            "73/73 [==============================] - 83s 1s/step - loss: 0.0828 - accuracy: 0.9773 - val_loss: 0.9824 - val_accuracy: 0.7386\n",
            "Epoch 10/25\n",
            "73/73 [==============================] - 83s 1s/step - loss: 0.0698 - accuracy: 0.9801 - val_loss: 1.0036 - val_accuracy: 0.7455\n",
            "Epoch 11/25\n",
            "73/73 [==============================] - 83s 1s/step - loss: 0.0608 - accuracy: 0.9832 - val_loss: 1.1066 - val_accuracy: 0.7377\n",
            "Epoch 12/25\n",
            "73/73 [==============================] - 84s 1s/step - loss: 0.1279 - accuracy: 0.9611 - val_loss: 0.6888 - val_accuracy: 0.7015\n",
            "Epoch 13/25\n",
            "73/73 [==============================] - 84s 1s/step - loss: 0.3835 - accuracy: 0.8331 - val_loss: 0.7065 - val_accuracy: 0.7127\n",
            "Epoch 14/25\n",
            "73/73 [==============================] - 84s 1s/step - loss: 0.1841 - accuracy: 0.9380 - val_loss: 0.8084 - val_accuracy: 0.7489\n",
            "Epoch 15/25\n",
            "73/73 [==============================] - 84s 1s/step - loss: 0.1086 - accuracy: 0.9644 - val_loss: 0.9344 - val_accuracy: 0.7386\n",
            "Epoch 16/25\n",
            "73/73 [==============================] - 84s 1s/step - loss: 0.0861 - accuracy: 0.9750 - val_loss: 1.0803 - val_accuracy: 0.7360\n",
            "Epoch 17/25\n",
            "73/73 [==============================] - 84s 1s/step - loss: 0.0739 - accuracy: 0.9795 - val_loss: 1.0430 - val_accuracy: 0.7386\n",
            "Epoch 18/25\n",
            "73/73 [==============================] - 84s 1s/step - loss: 0.0759 - accuracy: 0.9795 - val_loss: 1.1145 - val_accuracy: 0.7368\n",
            "Epoch 19/25\n",
            "73/73 [==============================] - 84s 1s/step - loss: 0.0537 - accuracy: 0.9870 - val_loss: 1.0864 - val_accuracy: 0.7248\n",
            "Epoch 20/25\n",
            "73/73 [==============================] - 84s 1s/step - loss: 0.0420 - accuracy: 0.9896 - val_loss: 1.2502 - val_accuracy: 0.7308\n",
            "Epoch 21/25\n",
            "73/73 [==============================] - 84s 1s/step - loss: 0.0370 - accuracy: 0.9924 - val_loss: 1.2499 - val_accuracy: 0.7274\n",
            "Epoch 22/25\n",
            "73/73 [==============================] - 84s 1s/step - loss: 0.0285 - accuracy: 0.9946 - val_loss: 1.3619 - val_accuracy: 0.7282\n",
            "Epoch 23/25\n",
            "73/73 [==============================] - 84s 1s/step - loss: 0.0264 - accuracy: 0.9955 - val_loss: 1.4348 - val_accuracy: 0.7170\n",
            "Epoch 24/25\n",
            "73/73 [==============================] - 84s 1s/step - loss: 0.0265 - accuracy: 0.9950 - val_loss: 1.4799 - val_accuracy: 0.7187\n",
            "Epoch 25/25\n",
            "73/73 [==============================] - 84s 1s/step - loss: 0.0245 - accuracy: 0.9953 - val_loss: 1.4510 - val_accuracy: 0.7343\n"
          ],
          "name": "stdout"
        },
        {
          "output_type": "execute_result",
          "data": {
            "text/plain": [
              "<tensorflow.python.keras.callbacks.History at 0x7f5ed47c2e10>"
            ]
          },
          "metadata": {
            "tags": []
          },
          "execution_count": 21
        }
      ]
    },
    {
      "cell_type": "code",
      "metadata": {
        "colab": {
          "base_uri": "https://localhost:8080/"
        },
        "id": "INV1sIFh0gCP",
        "outputId": "b0f6f87d-bd77-499d-aadf-178dc22d1a3b"
      },
      "source": [
        "model1.evaluate(X_test, y_test)"
      ],
      "execution_count": null,
      "outputs": [
        {
          "output_type": "stream",
          "text": [
            "37/37 [==============================] - 9s 242ms/step - loss: 1.4510 - accuracy: 0.7343\n"
          ],
          "name": "stdout"
        },
        {
          "output_type": "execute_result",
          "data": {
            "text/plain": [
              "[1.4510154724121094, 0.7342536449432373]"
            ]
          },
          "metadata": {
            "tags": []
          },
          "execution_count": 24
        }
      ]
    }
  ]
}